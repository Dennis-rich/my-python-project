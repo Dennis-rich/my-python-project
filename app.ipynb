{
 "cells": [
  {
   "cell_type": "code",
   "execution_count": null,
   "id": "9d03149f-37ea-4516-bba0-8f3b55cbf367",
   "metadata": {},
   "outputs": [],
   "source": [
    "import requests\n",
    "from bs4 import BeautifulSoup\n",
    "from PIL import Image\n",
    "import matplotlib.pyplot as plt\n",
    "from io import BytesIO\n",
    "\n",
    "# Указываем URL страницы с таблицей\n",
    "url = 'https://ru.wikipedia.org/wiki/Экономика_России'\n",
    "\n",
    "# Получаем содержимое страницы\n",
    "response = requests.get(url)\n",
    "soup = BeautifulSoup(response.content, 'html.parser')\n",
    "\n",
    "# Находим div с классом 'timeline-wrapper'\n",
    "div = soup.find('div', {'class': 'timeline-wrapper'})\n",
    "\n",
    "# Поиск img внутри найденного div\n",
    "img = div.find('img', {'usemap': '#timeline_f7dud6es2fj7uasl961m4n3tosletys'})\n",
    "\n",
    "# Проверяем, найден ли элемент img\n",
    "if img:\n",
    "    # Получаем URL изображения\n",
    "    img_src = img['src']\n",
    "    \n",
    "    # Преобразуем в полный URL\n",
    "    if img_src.startswith(\"//\"):\n",
    "        img_src = \"https:\" + img_src\n",
    "\n",
    "    # Загружаем изображение\n",
    "    response = requests.get(img_src)\n",
    "    \n",
    "    # Открываем изображение\n",
    "    image = Image.open(BytesIO(response.content))\n",
    "\n",
    "    # Увеличиваем размер изображения при отображении\n",
    "    plt.figure(figsize=(10, 10))  # Укажите размеры (ширина, высота) в дюймах\n",
    "    plt.imshow(image)\n",
    "    plt.axis('off')  # Отключаем оси\n",
    "    plt.show()\n",
    "else:\n",
    "    print(\"Изображение не найдено.\")"
   ]
  }
 ],
 "metadata": {
  "kernelspec": {
   "display_name": "Python 3 (ipykernel)",
   "language": "python",
   "name": "python3"
  },
  "language_info": {
   "codemirror_mode": {
    "name": "ipython",
    "version": 3
   },
   "file_extension": ".py",
   "mimetype": "text/x-python",
   "name": "python",
   "nbconvert_exporter": "python",
   "pygments_lexer": "ipython3",
   "version": "3.12.4"
  }
 },
 "nbformat": 4,
 "nbformat_minor": 5
}
